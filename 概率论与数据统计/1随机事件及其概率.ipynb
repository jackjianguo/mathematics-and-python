{
 "cells": [
  {
   "cell_type": "markdown",
   "metadata": {},
   "source": [
    "1随机事件\n",
    "\n",
    "1.1事件间的关系"
   ]
  },
  {
   "cell_type": "code",
   "execution_count": 2,
   "metadata": {},
   "outputs": [
    {
     "name": "stdout",
     "output_type": "stream",
     "text": [
      "True\n"
     ]
    }
   ],
   "source": [
    "# 事件间的关系\n",
    "# 1包含\n",
    "A = [1, 2, 3, 4, 5, 6]\n",
    "B = [1, 2, 3]\n",
    "# 判断集合A 包含集合B\n",
    "print(set(A) > set(B))"
   ]
  },
  {
   "cell_type": "code",
   "execution_count": 4,
   "metadata": {},
   "outputs": [
    {
     "name": "stdout",
     "output_type": "stream",
     "text": [
      "False\n"
     ]
    }
   ],
   "source": [
    "# 2相等\n",
    "A = [1, 2, 3, 4, 5, 6]\n",
    "B = [1, 2, 3]\n",
    "# 判断两个集合是否相等\n",
    "import operator\n",
    "print(operator.eq(A, B))"
   ]
  },
  {
   "cell_type": "code",
   "execution_count": 7,
   "metadata": {},
   "outputs": [
    {
     "name": "stdout",
     "output_type": "stream",
     "text": [
      "True\n"
     ]
    }
   ],
   "source": [
    "# 3互斥\n",
    "A = [1, 2, 3]\n",
    "B = [4, 5, 6]\n",
    "# 判断两个集合是否互斥\n",
    "# 判断两个集合的交集是否是空集\n",
    "print(len(set(A) & set(B)) == 0)"
   ]
  },
  {
   "cell_type": "markdown",
   "metadata": {},
   "source": [
    "1.2事件的运算"
   ]
  },
  {
   "cell_type": "code",
   "execution_count": 20,
   "metadata": {},
   "outputs": [
    {
     "name": "stdout",
     "output_type": "stream",
     "text": [
      "[1, 2, 3, 4, 5, 6]\n"
     ]
    }
   ],
   "source": [
    "# 和\n",
    "A = [1, 2, 3]\n",
    "B = [4, 5, 6]\n",
    "# AUB 或者A+B\n",
    "AUB = A\n",
    "AUB.extend(B)\n",
    "print(AUB)"
   ]
  },
  {
   "cell_type": "code",
   "execution_count": 16,
   "metadata": {},
   "outputs": [
    {
     "name": "stdout",
     "output_type": "stream",
     "text": [
      "{4}\n"
     ]
    }
   ],
   "source": [
    "# 积\n",
    "A = [1, 2, 3, 4]\n",
    "B = [4, 5, 6]\n",
    "# AnB 或者 AB\n",
    "AB = set(A) & set(B)\n",
    "print(AB)"
   ]
  },
  {
   "cell_type": "code",
   "execution_count": 17,
   "metadata": {},
   "outputs": [
    {
     "name": "stdout",
     "output_type": "stream",
     "text": [
      "{1, 2, 3}\n"
     ]
    }
   ],
   "source": [
    "# 差\n",
    "A = [1, 2, 3, 4]\n",
    "B = [4, 5, 6]\n",
    "# A - B\n",
    "# 集合A中包含而集合B中不包含的元素\n",
    "A_B = set(A) - set(B)\n",
    "print(A_B)"
   ]
  },
  {
   "cell_type": "code",
   "execution_count": 26,
   "metadata": {},
   "outputs": [
    {
     "name": "stdout",
     "output_type": "stream",
     "text": [
      "A + B = S True\n",
      "AB = 0 True\n",
      "True\n"
     ]
    }
   ],
   "source": [
    "# 对立\n",
    "A = [1, 2, 3]\n",
    "B = [4, 5, 6]\n",
    "S = [1, 2, 3, 4, 5, 6]\n",
    "# 判断是否为对立事件：1）A + B = S, AB = 0\n",
    "# Abar = B\n",
    "import operator\n",
    "AUB = A.copy()\n",
    "AUB.extend(B)\n",
    "print('A + B = S', operator.eq(AUB, S))\n",
    "AB = set(A) & set(B)\n",
    "print('AB = 0', len(AB) == 0)\n",
    "print((operator.eq(AUB, S)) and (len(AB) == 0))"
   ]
  },
  {
   "cell_type": "markdown",
   "metadata": {},
   "source": [
    "1.3 事件的运算性质"
   ]
  },
  {
   "cell_type": "code",
   "execution_count": null,
   "metadata": {},
   "outputs": [],
   "source": []
  }
 ],
 "metadata": {
  "kernelspec": {
   "display_name": "Python 3.7.10 ('base')",
   "language": "python",
   "name": "python3"
  },
  "language_info": {
   "codemirror_mode": {
    "name": "ipython",
    "version": 3
   },
   "file_extension": ".py",
   "mimetype": "text/x-python",
   "name": "python",
   "nbconvert_exporter": "python",
   "pygments_lexer": "ipython3",
   "version": "3.7.10"
  },
  "orig_nbformat": 4,
  "vscode": {
   "interpreter": {
    "hash": "252cace9988d177cfa2bc9bf862310f86d36ae98aa0199b1c6bb1e7542a206dd"
   }
  }
 },
 "nbformat": 4,
 "nbformat_minor": 2
}
